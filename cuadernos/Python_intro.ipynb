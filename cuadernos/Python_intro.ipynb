{
 "cells": [
  {
   "cell_type": "markdown",
   "metadata": {
    "colab_type": "text",
    "id": "JPZCeTDcEm3q"
   },
   "source": [
    "# Una muy simple introducción a Python\n",
    "\n",
    "Python es un lenguaje de **programación imperativo**, con una sintaxis similar a la de lenguajes como C, C++, Java o Ruby.\n",
    "\n",
    "Python es un lenguaje **interpretado**, lo que significa que cada vez que se ejecuta un programa, el intérprete ejecuta línea a línea el código fuente del programa. En esto es diferente a lenguajes como C o Java que se *compilan*.\n",
    "\n",
    "Python es un lenguaje con tipos dinámicos. En un lenguaje de tipos estáticos, hay que definir el tipo de una variable y este tipo no cambia a lo largo de la duración del programa, por ejemplo en C++ se definiría una cadena como:\n",
    "\n",
    "```C++\n",
    "std::string cadena = \"hello\";\n",
    "```\n",
    "\n",
    "Y si en otra parte del programa se intentara utilizar como número, el compilador daría un error **al compilar el programa**.\n",
    "\n",
    "```C++\n",
    "// Generaría un error al compilar\n",
    "cadena = 123;\n",
    "```\n",
    "\n",
    "Por contra, en un lenguaje con tipos dinámicos como Python esto es perfectamente válido:\n",
    "\n",
    "\n",
    "```python\n",
    "cadena = \"hello\"\n",
    "cadena = 123\n",
    "```\n",
    "\n",
    "Si el hecho de utilizar en alguna parte del programa una variable con el tipo incorrecto produce un error (por ejemplo, al calcular la raiz cuadrada de una cadena), este se da **al ejecutar el programa**.\n",
    "\n",
    "\n",
    "## Lenguaje multipropósito\n",
    "\n",
    "Python es un lenguaje de programación completo, con el que se puede programar demonios del sistema, aplicaciones gráficas, aplicaciones web, etc. Aquí nos vamos a centrar en su uso como herramienta de análisis de datos, en particular para astrofísica.\n",
    "\n",
    "\n",
    "## Intérprete de comandos\n",
    "\n",
    "Python puede ejecutar comandos escritos en un fichero (un *programa* de Python) y también ejecutar comandos uno a uno en una consola. La consola puede estar en un terminal unix, dentro de otro programa o incluso dentro de un navegador web. Por ejemplo, en la propia página web de [Python](https://www.python.org) puede arrancarse una consola interactiva. Nosotros utilizaremos un intérprete de comandos incluído dentro del paquete [Jupyter](https://jupyter.org/)\n",
    "\n",
    "\n",
    "## Instalar Python\n",
    "\n",
    "Python viene instalado en la mayor parte de las distribuciones Linux y en Mac. También puede instalarse en Windows. \n",
    "\n",
    "**Ojo:** Es importante asegurarnos de que tenemos una versión moderna de Python. Debería ser por lo menos 3.5.\n",
    "\n",
    "```\n",
    "$ python\n",
    "[GCC 9.3.1 20200408 (Red Hat 9.3.1-2)] on linux\n",
    "Type \"help\", \"copyright\", \"credits\" or \"license\" for more information.\n",
    ">>>\n",
    "\n",
    "```\n",
    "\n",
    "## Tutoriales de Python\n",
    "\n",
    "Existen multitud de recursos para aprender Python. Como la lista sería interminable, recomiendo la lista recopilada en [The Hitchhiker's guide to Python](https://docs.python-guide.org/intro/learning/)\n",
    "\n",
    "\n",
    "### Paquetes\n",
    "\n",
    "Python viene de serie con un [buen número de módulos](https://docs.python.org/3/library/), pero existen una gran cantidad de extensiones que añaden funcionalidades de topo tipo. Estas extensions se denominan **paquetes**. Por ejemplo:\n",
    "\n",
    "\n",
    " * numpy: array multidimensionales\n",
    " * scipy: funciones y métodos matemáticos\n",
    " * matplotlib: dibujo en 2D\n",
    " * astropy: herramientas de astrofísica\n",
    " * pandas: estructuras de datos y análisis\n",
    " * scikit-learn: machine learning\n",
    " * scikit-image: visión artificial\n",
    " * pymc3: programación probabilística\n",
    " * statsmodels: modelos estadísticos\n",
    " * y muchos más...\n",
    " \n",
    "\n",
    "Hasta hace unos pocos años, la instalación de paquetes de Python estaba fragmentada y no tenía buenos estándares. Ahora la situación ha mejorado bastante y es posible tener un entorno de trabajo en Python con relativa facilidad.\n",
    "\n",
    "Las maneras habituales de instalar paquetes son **pip** y **conda**.\n",
    "\n",
    "\n",
    "### Pip\n",
    "\n",
    "Pip es el instalador nativo de Python. Instala paquetes desde el \n",
    "[Python Package Index](https://pypi.org/).\n",
    "\n",
    "### Anaconda\n",
    "\n",
    "Anaconda es un instalador de paquetes multiplataforma. No solo instala Python sino también bibliotecas de C o paquetes de R. [Anaconda](https://www.anaconda.com/distribution/). funciona de igual manera en Windows, Linux y Mac. Además permite instalar fácilmente Python desde cero si el sistema carece de él (como podría ser Windos)\n",
    "\n",
    "\n",
    "### Entornos virtuales\n",
    "En ambos casos, tanto pip como anaconda permiten trabajar con **entornos virtuales**. Son espacios de trabajo con conjuntos de paquetes separados. Permiten instalar paquetes de diferentes versiones sin que colisionen entre ellos, sin tocar la versión de Python del sistema y sin tener privilegios de administración."
   ]
  },
  {
   "cell_type": "markdown",
   "metadata": {},
   "source": [
    "## Jupyter\n",
    "\n",
    "Jupyter es un entorno de tipo **cuaderno**, en el que se puede mezclar texto con elementos multimedia con código ejecutable. Jupyter permite ejecutar código en Python pero también en R, Julia y otro lenguajes. En Jupyter el elemento mínimo es la *celda*. Una celda puede contener texto (como esta) o código ejecutable.\n",
    "\n",
    "### Instalación\n",
    "\n",
    "Para la instalación podemos visitar http://www.jupyter.org\n",
    "\n",
    "En la sección **The Jupyter Notebook**, tenemos dos opciones:\n",
    " **Try in in your browser** e **Install the Notebook**\n",
    "\n",
    "De nuevo tenemos opciones para instalar varios programas. \n",
    "Buscamos la sección **Getting started with the classic Jupyter Notebook**,\n",
    "donde tenemos instrucciones para instalar utilizando *conda* o *pip*.\n",
    "\n",
    "Jupyter es una aplicación Python, así que require un entorno de Python.\n",
    "Tanto en Linux como en Mac, Python viene instalado por defecto. Sin embargo,\n",
    "es preferible trabajar en un entorno aislado del Python del sistema para\n",
    "evitar problemas de compatibilidad.\n",
    "\n",
    "\n",
    "### Pip\n",
    "\n",
    "El primer paso es crear un *entorno virtual*. De esa manera usaremos un Python aislado del Python del sistema, donde podremos instalar y desintalar paquetes sin permisos de administrador.\n",
    "\n",
    "En una terminal, escribimos:\n",
    "\n",
    "```\n",
    "$ python3 -m venv taller\n",
    "```\n",
    "\n",
    "Este comando nos creará un directorio `taller` con toda la estructura\n",
    "de directorios de Python. A continuación hay que activar el entorno, lo \n",
    "que hará que, en esa terminal en particular, el comando `python` invoque\n",
    "el ejecutable en `taller/bin/python`.\n",
    "\n",
    "La activación se realiza con:\n",
    "```\n",
    "$ source taller/bin/activate\n",
    "```\n",
    "\n",
    "A continuación , el *prompt* cambia para indicar que estamos dentro del\n",
    "entorno:\n",
    "\n",
    "```\n",
    "(taller) $\n",
    "```\n",
    "\n",
    "Para salir del entorno, basta escribir `deactivate` (o cerrar la terminal).\n",
    "\n",
    "La instalación de Jupyter es simplemente:\n",
    "\n",
    "```\n",
    "(taller) $ pip install notebook\n",
    "```\n",
    "\n",
    "para ejecutar el cuaderno, en la terminal podemos:\n",
    "\n",
    "\n",
    "```\n",
    "(taller) $ jupyter notebook\n",
    "```\n",
    "\n",
    "### Conda\n",
    "\n",
    "La instalación de conda está detallada en \n",
    "https://docs.anaconda.com/anaconda/install/\n",
    "\n",
    "Una vez instalado conda, creamos un entorno con:\n",
    "\n",
    "```\n",
    "$ conda create --name taller\n",
    "```\n",
    "\n",
    "Activamos el entorno con:\n",
    "```\n",
    "$ conda activate taller\n",
    "```\n",
    "\n",
    "E instalamos con:\n",
    "\n",
    "```\n",
    "(taller) $ conda install -c conda-forge notebook\n",
    "```\n",
    "\n",
    "\n",
    "Para ejecutar jupyter escibir en una consola:\n",
    "\n",
    "```\n",
    "(taller) $ jupyter notebook\n",
    "```\n"
   ]
  },
  {
   "cell_type": "markdown",
   "metadata": {},
   "source": [
    "## Ejémplos de código"
   ]
  },
  {
   "cell_type": "code",
   "execution_count": 1,
   "metadata": {
    "colab": {},
    "colab_type": "code",
    "id": "lsOUY7X1Em31",
    "outputId": "168e92d6-dc63-42aa-b4b2-2e80969226ed"
   },
   "outputs": [
    {
     "name": "stdout",
     "output_type": "stream",
     "text": [
      "Hello world\n"
     ]
    }
   ],
   "source": [
    "# Esta celda contiene código\n",
    "# y esto es un comentario\n",
    "cadena = \"Hello world\"\n",
    "print(cadena)"
   ]
  },
  {
   "cell_type": "code",
   "execution_count": 2,
   "metadata": {
    "colab": {},
    "colab_type": "code",
    "id": "mKOK1N0vEm4S",
    "outputId": "25d79068-7ec5-414b-dd54-947d29f1ecf3"
   },
   "outputs": [
    {
     "data": {
      "text/plain": [
       "'Hello world'"
      ]
     },
     "execution_count": 2,
     "metadata": {},
     "output_type": "execute_result"
    }
   ],
   "source": [
    "# Por defecto las celdas escriben el valor del\n",
    "# último comando ejecutado\n",
    "cadena"
   ]
  },
  {
   "cell_type": "code",
   "execution_count": 3,
   "metadata": {
    "colab": {},
    "colab_type": "code",
    "id": "WSAhMAl4Em4g",
    "outputId": "b2ddf01e-8766-46bd-abc6-0868e5bf2be6"
   },
   "outputs": [
    {
     "name": "stdout",
     "output_type": "stream",
     "text": [
      "2.3\n",
      "[0, 2.3, -3.0]\n",
      "-1.0\n"
     ]
    }
   ],
   "source": [
    "# En python tenemos variables enteras, reales, cadenas y booleanas\n",
    "entero = 10\n",
    "real = -1e-34\n",
    "cadena = \"hola\"\n",
    "valor = True\n",
    "\n",
    "# Las variables pueden agruparse en listas\n",
    "lista_de_reales = [1,0, 2.3, -3.0, 0.0, -1.0, -1.0]\n",
    "# que no tiene por qué ser homogéneas\n",
    "lista2 = [1, True, 0, 0, \"cadena\"]\n",
    "\n",
    "# A las listas se puede acceder por número de elemento (empezando en 0)\n",
    "# por rango de elementos\n",
    "# o empezando por el final con negativos\n",
    "\n",
    "print(lista_de_reales[2])\n",
    "print(lista_de_reales[1:4])\n",
    "print(lista_de_reales[-1])"
   ]
  },
  {
   "cell_type": "code",
   "execution_count": 4,
   "metadata": {
    "colab": {},
    "colab_type": "code",
    "id": "DltPPlyPEm4v",
    "outputId": "b600b360-9fdc-4c67-b2f9-0ee69b990f91"
   },
   "outputs": [
    {
     "name": "stdout",
     "output_type": "stream",
     "text": [
      "Para 1 el cuadrado es 1\n",
      "Para 0 el cuadrado es 0\n",
      "Para 2.3 el cuadrado es 5.289999999999999\n",
      "Para -3.0 el cuadrado es 9.0\n",
      "Para 0.0 el cuadrado es 0.0\n",
      "Para -1.0 el cuadrado es 1.0\n",
      "Para -1.0 el cuadrado es 1.0\n"
     ]
    }
   ],
   "source": [
    "# Las listas son los elementos básicos con los que iterar\n",
    "for x in lista_de_reales:\n",
    "    print(\"Para\",x, \"el cuadrado es\", x**2)"
   ]
  },
  {
   "cell_type": "code",
   "execution_count": 5,
   "metadata": {
    "colab": {},
    "colab_type": "code",
    "id": "PTaZ8TtlEm48",
    "outputId": "cd93e9b1-4703-4f5a-9024-b77f39e09e79"
   },
   "outputs": [
    {
     "name": "stdout",
     "output_type": "stream",
     "text": [
      "{'B': 23.5, 'V': 21.4, 'R': 20.6, 'I': 19.1}\n"
     ]
    }
   ],
   "source": [
    "# Otro tipo básico de python es el diccionario o mapa\n",
    "# se puede iterar como una lista y almacena clave=valor\n",
    "\n",
    "zeropoints = {'B': 23.5, 'V': 21.4, 'R': 20.6}\n",
    "zeropoints['I'] = 19.1\n",
    "print(zeropoints)"
   ]
  },
  {
   "cell_type": "code",
   "execution_count": 6,
   "metadata": {
    "colab": {},
    "colab_type": "code",
    "id": "JvCxTj_qEm5M",
    "outputId": "e5f5f6eb-6001-463f-930b-e3fcf9ce051f"
   },
   "outputs": [
    {
     "name": "stdout",
     "output_type": "stream",
     "text": [
      "B 23.5\n",
      "V 21.4\n",
      "R 20.6\n",
      "I 19.1\n",
      "---\n",
      "23.5\n",
      "21.4\n",
      "20.6\n",
      "19.1\n",
      "---\n",
      "B 23.5\n",
      "V 21.4\n",
      "R 20.6\n",
      "I 19.1\n"
     ]
    }
   ],
   "source": [
    "# Se itera sobre claves, valores o parejas de (clave, valor)\n",
    "# se accede a valores con corchete []\n",
    "\n",
    "# iteración con claves\n",
    "for key in zeropoints:\n",
    "    print(key, zeropoints[key])\n",
    "print('---')\n",
    "# iteración con valores\n",
    "for value in zeropoints.values():\n",
    "    print(value)\n",
    "print('---')\n",
    "# iteración con claves y valores\n",
    "for key, value in zeropoints.items():\n",
    "    print(key, value)"
   ]
  },
  {
   "cell_type": "markdown",
   "metadata": {
    "colab_type": "text",
    "id": "_sJVGCS6Em5Y"
   },
   "source": [
    "## Markdown\n",
    "\n",
    "El lenguaje para las celdas de texto se llama `markdown`. Permite escribir texto estructurado sin necesidad de utilizar HTML.\n",
    "\n",
    "\n",
    "Voy a tomar los puntos cero de Peter & Johnson 1999\n",
    "\n",
    " * Primero miro en manual, no encuentro nada\n",
    " * En la página de __HST me dan un enlace__\n",
    " * *Cursiva*\n",
    "\n",
    "¡Permite escribir ecuaciones en latex!\n",
    "\n",
    "Lista numerada con ecuación $ \\int P(A| B) = \\sum_i A_i $\n",
    "\n",
    " 1. Esto es una lista numerada\n",
    " 2. Siguiente elemento\n",
    "\n",
    "O así:\n",
    "\n",
    "$$ \\int P(A| B) = \\sum_i A_i $$\n",
    " \n",
    "Enlace a la [ayuda de Markdown](https://jupyter-notebook.readthedocs.io/en/stable/examples/Notebook/Working%20With%20Markdown%20Cells.html)\n",
    " \n",
    " "
   ]
  },
  {
   "cell_type": "markdown",
   "metadata": {
    "colab_type": "text",
    "id": "PRJ-xGuVEm5c"
   },
   "source": [
    "## Matrices y gráficas\n",
    "\n",
    "Aunque las listas podrían funcionar como matrices (con listas de listas) no son lo suficientemente versátiles y rápidas. El paquete para matrices y arrays es [NumPy](https://numpy.org/). Las funciones más básicas de arrays N-dimensionales están en NumPy. Otro paquete llamado [Scipy](https://www.scipy.org/), compatible con NumPy, contiene funciones más avanzadas: minimización y extremos, funciones epeciales, filtros ndimensionales etc.\n",
    "\n",
    "Para representaciones gráficas el paquete básico es [matplotlib](https://matplotlib.org/)"
   ]
  },
  {
   "cell_type": "markdown",
   "metadata": {
    "colab_type": "text",
    "id": "NL2HW2ulEm5h"
   },
   "source": [
    "Para acceder a paquetes se utiliza el comando `import`. También se puede definir un alias con `import package as pkg`"
   ]
  },
  {
   "cell_type": "code",
   "execution_count": 7,
   "metadata": {
    "colab": {},
    "colab_type": "code",
    "id": "_DMesxVsEm5p"
   },
   "outputs": [],
   "source": [
    "# Cargamos numpy y matplotlib\n",
    "import numpy as np\n",
    "import matplotlib.pyplot as plt"
   ]
  },
  {
   "cell_type": "code",
   "execution_count": 8,
   "metadata": {
    "colab": {},
    "colab_type": "code",
    "id": "NQ3EHyxzEm53",
    "outputId": "ba015f0b-5397-4d7e-d904-39996c55d3d4",
    "scrolled": true
   },
   "outputs": [
    {
     "name": "stdout",
     "output_type": "stream",
     "text": [
      "1.19.2\n"
     ]
    }
   ],
   "source": [
    "# la versión de numpy\n",
    "print(np.__version__)"
   ]
  },
  {
   "cell_type": "code",
   "execution_count": 9,
   "metadata": {
    "colab": {},
    "colab_type": "code",
    "id": "pCoFhHfREm6D"
   },
   "outputs": [],
   "source": [
    "# creamos un array de 250x250, sin inicializar (contiene basura)\n",
    "arr1 = np.empty((250, 250))\n",
    "# o con ceros\n",
    "arr1 = np.zeros((250, 250))"
   ]
  },
  {
   "cell_type": "code",
   "execution_count": 10,
   "metadata": {
    "colab": {},
    "colab_type": "code",
    "id": "zE5WSB6iEm6S",
    "outputId": "b8038800-30b5-4f7e-b5f4-fcbdc73945ac"
   },
   "outputs": [
    {
     "data": {
      "text/plain": [
       "62500"
      ]
     },
     "execution_count": 10,
     "metadata": {},
     "output_type": "execute_result"
    }
   ],
   "source": [
    "arr1.size"
   ]
  },
  {
   "cell_type": "code",
   "execution_count": 11,
   "metadata": {
    "colab": {},
    "colab_type": "code",
    "id": "bMY8Il-LEm6d",
    "outputId": "0a472513-f30c-4ec0-de1b-3b786b99a989"
   },
   "outputs": [
    {
     "data": {
      "text/plain": [
       "dtype('float64')"
      ]
     },
     "execution_count": 11,
     "metadata": {},
     "output_type": "execute_result"
    }
   ],
   "source": [
    "arr1.dtype"
   ]
  },
  {
   "cell_type": "code",
   "execution_count": 12,
   "metadata": {
    "colab": {},
    "colab_type": "code",
    "id": "ZNQ_ajjcEm6n"
   },
   "outputs": [],
   "source": [
    "# podemos decidir de qué tipo es el array\n",
    "# en este caso enteros sin signo del tipo\n",
    "# predefinido (64 bits)\n",
    "arr2 = np.zeros((250, 250), dtype='uint')"
   ]
  },
  {
   "cell_type": "code",
   "execution_count": 13,
   "metadata": {
    "colab": {},
    "colab_type": "code",
    "id": "zOWoRijfEm6t",
    "outputId": "65e5951d-4fab-4b30-a85b-09d9120ba290"
   },
   "outputs": [
    {
     "data": {
      "text/plain": [
       "dtype('uint64')"
      ]
     },
     "execution_count": 13,
     "metadata": {},
     "output_type": "execute_result"
    }
   ],
   "source": [
    "arr2.dtype"
   ]
  },
  {
   "cell_type": "code",
   "execution_count": 14,
   "metadata": {
    "colab": {},
    "colab_type": "code",
    "id": "vrM-DsKwEm67"
   },
   "outputs": [],
   "source": [
    "nrr1 = 456.04 + np.zeros((100, 250))\n",
    "nrr2 = 34 * np.ones((100, 250))"
   ]
  },
  {
   "cell_type": "code",
   "execution_count": 15,
   "metadata": {
    "colab": {},
    "colab_type": "code",
    "id": "SA-WFbFgEm7H"
   },
   "outputs": [],
   "source": [
    "# Se puede hacer todo tipo de operaciones\n",
    "# además numpy redefine las funciones matemáticas básicas para arrays\n",
    "nrr3 = nrr1 + 45* nrr2\n",
    "nrr4 = np.log(nrr1) * np.sin(nrr1 * nrr2)\n",
    "\n",
    "# array de booleanos\n",
    "mask = nrr1 > nrr2"
   ]
  },
  {
   "cell_type": "code",
   "execution_count": 16,
   "metadata": {
    "colab": {},
    "colab_type": "code",
    "id": "DqyT8XO4Em7S",
    "outputId": "4b870045-2d50-437b-a8fe-4dad6fcda253"
   },
   "outputs": [
    {
     "name": "stdout",
     "output_type": "stream",
     "text": [
      "[[-6.11992417 -6.11992417 -6.11992417 ... -6.11992417 -6.11992417\n",
      "  -6.11992417]\n",
      " [-6.11992417 -6.11992417 -6.11992417 ... -6.11992417 -6.11992417\n",
      "  -6.11992417]\n",
      " [-6.11992417 -6.11992417 -6.11992417 ... -6.11992417 -6.11992417\n",
      "  -6.11992417]\n",
      " ...\n",
      " [-6.11992417 -6.11992417 -6.11992417 ... -6.11992417 -6.11992417\n",
      "  -6.11992417]\n",
      " [-6.11992417 -6.11992417 -6.11992417 ... -6.11992417 -6.11992417\n",
      "  -6.11992417]\n",
      " [-6.11992417 -6.11992417 -6.11992417 ... -6.11992417 -6.11992417\n",
      "  -6.11992417]]\n"
     ]
    }
   ],
   "source": [
    "print(nrr4)"
   ]
  },
  {
   "cell_type": "code",
   "execution_count": 17,
   "metadata": {
    "colab": {},
    "colab_type": "code",
    "id": "k4TL_Zl-Em7g",
    "outputId": "88fd9552-2439-432d-b48f-751df5be1d9a"
   },
   "outputs": [
    {
     "name": "stdout",
     "output_type": "stream",
     "text": [
      "-6.119924172257219\n",
      "(100, 250)\n",
      "(100,)\n",
      "(250,)\n"
     ]
    }
   ],
   "source": [
    "# se pueden usar índices de diversas maneras\n",
    "print(nrr4[0, 3]) # elemento 0,3\n",
    "print(nrr4.shape)\n",
    "sub1 = nrr4[..., 3] # todas las filas, columna 3\n",
    "print(sub1.shape)\n",
    "sub2 = nrr4[3, ] # todas las columnas, fila 3\n",
    "print(sub2.shape)"
   ]
  },
  {
   "cell_type": "code",
   "execution_count": 18,
   "metadata": {
    "colab": {},
    "colab_type": "code",
    "id": "mMZ4iNH3Em7q",
    "outputId": "f9f88b43-3298-4171-f850-f286181f2282"
   },
   "outputs": [
    {
     "name": "stdout",
     "output_type": "stream",
     "text": [
      "(80,)\n",
      "(25, 80)\n",
      "(25000,)\n"
     ]
    }
   ],
   "source": [
    "ut = nrr4[0, 10:90] # fila 0, columnas de la 10 a la 89\n",
    "print(ut.shape)\n",
    "ut = nrr4[::4, 10:90] # filas, una de cada cuatro, empezando en cero, columnas de la 10 a la 89\n",
    "print(ut.shape)\n",
    "ut = nrr4[mask] # con una máscara, solo valores donde mask es True\n",
    "print(ut.shape)"
   ]
  },
  {
   "cell_type": "code",
   "execution_count": 19,
   "metadata": {
    "colab": {},
    "colab_type": "code",
    "id": "WP49oUnXEm71",
    "outputId": "8f2d94e4-2590-47ab-9be5-df7321bc9053"
   },
   "outputs": [
    {
     "name": "stdout",
     "output_type": "stream",
     "text": [
      "[ 1  2  3  4  5  6  7  8  9 10 11 12 13 14 15 16 17 18 19 20 21 22 23 24\n",
      " 25 26 27 28 29 30 31 32 33 34 35 36 37 38 39 40 41 42 43 44 45 46 47 48\n",
      " 49 50 51 52 53 54 55 56 57 58 59 60 61 62 63 64 65 66 67 68 69 70 71 72\n",
      " 73 74 75 76 77 78 79 80 81 82 83 84 85 86 87 88 89 90 91 92 93 94 95 96\n",
      " 97 98 99]\n"
     ]
    }
   ],
   "source": [
    "values = np.arange(1, 100)\n",
    "print(values)"
   ]
  },
  {
   "cell_type": "code",
   "execution_count": 20,
   "metadata": {
    "colab": {},
    "colab_type": "code",
    "id": "JDGKnHXpEm8F"
   },
   "outputs": [],
   "source": [
    "# Otra forma de crear un array, 100 puntos entre -1 y \n",
    "xx = np.linspace(-1, 1, 100)\n",
    "# Una relación lineal\n",
    "yy = 1.2 * xx + 0.4"
   ]
  },
  {
   "cell_type": "code",
   "execution_count": 21,
   "metadata": {
    "colab": {},
    "colab_type": "code",
    "id": "HNVNWsbPEm8N"
   },
   "outputs": [],
   "source": [
    "# Usamos numpy.random para añadir ruido\n",
    "import numpy.random\n",
    "# Ruido gausiano con sigma = 0.3\n",
    "yy_n = numpy.random.normal(yy, 0.3)"
   ]
  },
  {
   "cell_type": "code",
   "execution_count": 22,
   "metadata": {
    "colab": {},
    "colab_type": "code",
    "id": "PmlDHu-WEm8W",
    "outputId": "84999ab4-8b8d-4748-8cdc-e5c829049971"
   },
   "outputs": [
    {
     "data": {
      "text/plain": [
       "<matplotlib.legend.Legend at 0x7f5076932ed0>"
      ]
     },
     "execution_count": 22,
     "metadata": {},
     "output_type": "execute_result"
    },
    {
     "data": {
      "image/png": "[encoded data removed]",
      "text/plain": [
       "<Figure size 432x288 with 1 Axes>"
      ]
     },
     "metadata": {
      "needs_background": "light"
     },
     "output_type": "display_data"
    }
   ],
   "source": [
    "plt.plot(xx, yy, 'r--', label='expected')\n",
    "plt.scatter(xx, yy_n, color='b', label='computed')\n",
    "plt.xlim([-1, 0.5])\n",
    "plt.legend()"
   ]
  },
  {
   "cell_type": "code",
   "execution_count": 23,
   "metadata": {
    "colab": {},
    "colab_type": "code",
    "id": "KaGoIKwbEm8h",
    "outputId": "1be58e1d-3f07-4347-bd26-d2d47eabc4d1"
   },
   "outputs": [
    {
     "name": "stdout",
     "output_type": "stream",
     "text": [
      "[1.09803977 0.41144454]\n"
     ]
    }
   ],
   "source": [
    "# Realizamos un ajuste lineal por mínimos cuadrados\n",
    "coeffs = np.polyfit(xx, yy_n, deg=1)\n",
    "print(coeffs)\n",
    "pol = np.poly1d(coeffs)"
   ]
  },
  {
   "cell_type": "code",
   "execution_count": 24,
   "metadata": {
    "colab": {},
    "colab_type": "code",
    "id": "WfniePMKEm8r",
    "outputId": "7a339918-e464-4aac-9063-04c21e923364"
   },
   "outputs": [
    {
     "data": {
      "text/plain": [
       "<matplotlib.legend.Legend at 0x7f5076956cd0>"
      ]
     },
     "execution_count": 24,
     "metadata": {},
     "output_type": "execute_result"
    },
    {
     "data": {
      "image/png": "[encoded data removed]",
      "text/plain": [
       "<Figure size 432x288 with 1 Axes>"
      ]
     },
     "metadata": {
      "needs_background": "light"
     },
     "output_type": "display_data"
    }
   ],
   "source": [
    "plt.plot(xx, pol(xx), 'g-.', label='fit')\n",
    "plt.scatter(xx, yy_n, color='b', label='values')\n",
    "plt.xlim([-1, 0.5])\n",
    "plt.legend()"
   ]
  },
  {
   "cell_type": "code",
   "execution_count": 25,
   "metadata": {
    "colab": {},
    "colab_type": "code",
    "id": "jMp2VeGGEm8y",
    "outputId": "d76d58a4-877c-4332-bf19-d27850519911"
   },
   "outputs": [
    {
     "data": {
      "image/png": "[encoded data removed]",
      "text/plain": [
       "<Figure size 432x288 with 1 Axes>"
      ]
     },
     "metadata": {
      "needs_background": "light"
     },
     "output_type": "display_data"
    }
   ],
   "source": [
    "# Histogramas\n",
    "values = np.random.normal(size=1000)\n",
    "plt.hist(values, bins='auto');"
   ]
  },
  {
   "cell_type": "code",
   "execution_count": 26,
   "metadata": {
    "colab": {},
    "colab_type": "code",
    "id": "6IxpqrwTEm89"
   },
   "outputs": [
    {
     "ename": "ModuleNotFoundError",
     "evalue": "No module named 'scipy'",
     "output_type": "error",
     "traceback": [
      "\u001b[0;31m---------------------------------------------------------------------------\u001b[0m",
      "\u001b[0;31mModuleNotFoundError\u001b[0m                       Traceback (most recent call last)",
      "\u001b[0;32m<ipython-input-26-06dc026198a2>\u001b[0m in \u001b[0;36m<module>\u001b[0;34m\u001b[0m\n\u001b[1;32m      1\u001b[0m \u001b[0;31m# Imágenes 2D\u001b[0m\u001b[0;34m\u001b[0m\u001b[0;34m\u001b[0m\u001b[0;34m\u001b[0m\u001b[0m\n\u001b[0;32m----> 2\u001b[0;31m \u001b[0;32mimport\u001b[0m \u001b[0mscipy\u001b[0m\u001b[0;34m.\u001b[0m\u001b[0mndimage\u001b[0m \u001b[0;32mas\u001b[0m \u001b[0mnd\u001b[0m\u001b[0;34m\u001b[0m\u001b[0;34m\u001b[0m\u001b[0m\n\u001b[0m\u001b[1;32m      3\u001b[0m \u001b[0;34m\u001b[0m\u001b[0m\n\u001b[1;32m      4\u001b[0m \u001b[0marrn\u001b[0m \u001b[0;34m=\u001b[0m \u001b[0mnp\u001b[0m\u001b[0;34m.\u001b[0m\u001b[0mzeros\u001b[0m\u001b[0;34m(\u001b[0m\u001b[0;34m(\u001b[0m\u001b[0;36m1024\u001b[0m\u001b[0;34m,\u001b[0m \u001b[0;36m1024\u001b[0m\u001b[0;34m)\u001b[0m\u001b[0;34m)\u001b[0m\u001b[0;34m\u001b[0m\u001b[0;34m\u001b[0m\u001b[0m\n\u001b[1;32m      5\u001b[0m \u001b[0marrn\u001b[0m\u001b[0;34m[\u001b[0m\u001b[0;36m500\u001b[0m\u001b[0;34m,\u001b[0m\u001b[0;36m500\u001b[0m\u001b[0;34m]\u001b[0m \u001b[0;34m=\u001b[0m \u001b[0;36m40000\u001b[0m\u001b[0;34m\u001b[0m\u001b[0;34m\u001b[0m\u001b[0m\n",
      "\u001b[0;31mModuleNotFoundError\u001b[0m: No module named 'scipy'"
     ]
    }
   ],
   "source": [
    "# Imágenes 2D\n",
    "import scipy.ndimage as nd\n",
    "\n",
    "arrn = np.zeros((1024, 1024))\n",
    "arrn[500,500] = 40000\n",
    "arrn[200,200] = 40000\n",
    "arrn[600,200] = 40000\n",
    "# Filtro gaussiano\n",
    "arrn = nd.gaussian_filter(arrn, 5)\n",
    "# Con ruido\n",
    "arrn = np.random.normal(arrn, 10.0)"
   ]
  },
  {
   "cell_type": "code",
   "execution_count": null,
   "metadata": {
    "colab": {},
    "colab_type": "code",
    "id": "0dPZl8riEm9E",
    "outputId": "bdecdb2a-ea68-4fee-89c5-94c79e509289"
   },
   "outputs": [],
   "source": [
    "plt.imshow(arrn)"
   ]
  },
  {
   "cell_type": "code",
   "execution_count": null,
   "metadata": {},
   "outputs": [],
   "source": []
  }
 ],
 "metadata": {
  "colab": {
   "name": "Python_intro.ipynb",
   "provenance": []
  },
  "kernelspec": {
   "display_name": "Python 3",
   "language": "python",
   "name": "python3"
  },
  "language_info": {
   "codemirror_mode": {
    "name": "ipython",
    "version": 3
   },
   "file_extension": ".py",
   "mimetype": "text/x-python",
   "name": "python",
   "nbconvert_exporter": "python",
   "pygments_lexer": "ipython3",
   "version": "3.7.9"
  }
 },
 "nbformat": 4,
 "nbformat_minor": 1
}
