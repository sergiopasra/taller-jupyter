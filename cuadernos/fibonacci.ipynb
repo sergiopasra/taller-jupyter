{
 "cells": [
  {
   "cell_type": "markdown",
   "metadata": {},
   "source": [
    "# Números de Fibonnacci complejos\n",
    "\n",
    "Los números de Fibonnacci siguen la conocida recurrencia:\n",
    "\n",
    "$$\n",
    "F_n = F_{n-1} + F_{n-2}\n",
    "$$\n",
    "\n",
    "Empezando con 0, 1 obtenemos:\n",
    "\n",
    "$$\n",
    "0, 1, 1, 2, 3, 5, 8, \\ldots\n",
    "$$\n",
    "\n",
    "La secuencia puede extenderse hacia enteros negativos reordenando la relación de recurrencia:\n",
    "\n",
    "$$\n",
    "F_{n-2} = F_n - F_{n-1}\n",
    "$$\n",
    "\n",
    "Con lo que obtenemos la secuencia:\n",
    "$$\n",
    "0, 1, -1, 2, -3, 5, -8, \\ldots\n",
    "$$\n",
    "\n",
    "\n",
    "Con lo que se cumple:\n",
    "$$\n",
    "F_{-n} = (-1)^{n+1} F_{n}\n",
    "$$\n"
   ]
  },
  {
   "cell_type": "markdown",
   "metadata": {},
   "source": [
    "Para extender los números de Fibbonacci al campo real, podemos utilizar **la fórmula de Binet**, que nos permite obtener el n-esimo término sin recurrencia:\n",
    "\n",
    "$$\n",
    "F_n = \\frac{\\phi^n - (1 - \\phi)^n}{\\sqrt{5}}\n",
    "$$\n",
    "\n",
    "y donde $\\phi = \\frac{1 + \\sqrt{5}}{2}$\n",
    "\n",
    "\n",
    "Sin embargo, como $1 - \\phi$ es negativo, esta relación solo devuelve resultados reales para los números enteros.\n",
    "\n",
    "No podemos obtener números de Fibbonacci reales, **pero sí complejos**.\n"
   ]
  },
  {
   "cell_type": "code",
   "execution_count": null,
   "metadata": {},
   "outputs": [],
   "source": [
    "import numpy as np\n",
    "import matplotlib.pyplot as plt\n",
    "import math"
   ]
  },
  {
   "cell_type": "code",
   "execution_count": null,
   "metadata": {},
   "outputs": [],
   "source": [
    "phi = (1 + math.sqrt(5)) / 2\n",
    "sqrt5 = math.sqrt(5)"
   ]
  },
  {
   "cell_type": "code",
   "execution_count": null,
   "metadata": {},
   "outputs": [],
   "source": [
    "def fibbn(n):\n",
    "    return (phi**n - (1-phi)**n)/sqrt5"
   ]
  },
  {
   "cell_type": "code",
   "execution_count": null,
   "metadata": {},
   "outputs": [],
   "source": [
    "xx = np.linspace(0, 4, 1000)\n",
    "zz = xx + 1j * 0\n",
    "ii = np.arange(0, 5)\n",
    "\n",
    "cfib1 = fibbn(zz)\n",
    "ifib1 = fibbn(ii)\n",
    "    \n",
    "plt.axhline(y=0, color='k')\n",
    "plt.axvline(x=0, color='k')\n",
    "plt.plot(cfib1.real, cfib1.imag)\n",
    "plt.plot(ifib1, [0 for f in ifib1], \"ro\")\n",
    "plt.show()\n",
    "plt.plot(xx, cfib1.real)\n",
    "plt.plot(ii, ifib1, \"ro\")\n",
    "plt.show()\n",
    "plt.plot(xx, cfib1.imag, 'g')\n",
    "plt.show()"
   ]
  },
  {
   "cell_type": "code",
   "execution_count": null,
   "metadata": {},
   "outputs": [],
   "source": [
    "def plot_fibb1(n1=0, n2=4):\n",
    "    xx = np.linspace(n1, n2, 1000)\n",
    "    zz = xx + 1j * 0\n",
    "    ii = np.arange(n1, n2 + 1)\n",
    "\n",
    "    cfib1 = fibbn(zz)\n",
    "    ifib1 = fibbn(ii)\n",
    "\n",
    "    plt.axhline(y=0, color='k')\n",
    "    plt.axvline(x=0, color='k')\n",
    "    plt.plot(cfib1.real, cfib1.imag)\n",
    "    plt.plot(ifib1, [0 for f in ifib1], \"ro\")\n",
    "    plt.show()\n",
    "    plt.plot(xx, cfib1.real)\n",
    "    plt.plot(ii, ifib1, \"ro\")\n",
    "    plt.show()\n",
    "    plt.plot(xx, cfib1.imag, 'g')\n",
    "    plt.show()\n"
   ]
  },
  {
   "cell_type": "code",
   "execution_count": null,
   "metadata": {},
   "outputs": [],
   "source": [
    "plot_fibb1(-4, 0)"
   ]
  },
  {
   "cell_type": "markdown",
   "metadata": {},
   "source": [
    "### Con widgets\n",
    "\n",
    "https://ipywidgets.readthedocs.io/en/latest/index.html"
   ]
  },
  {
   "cell_type": "code",
   "execution_count": null,
   "metadata": {},
   "outputs": [],
   "source": [
    "from ipywidgets import interact, interactive, fixed, interact_manual\n",
    "import ipywidgets as widgets"
   ]
  },
  {
   "cell_type": "code",
   "execution_count": null,
   "metadata": {
    "scrolled": false
   },
   "outputs": [],
   "source": [
    "interact(plot_fibb1, n1=(-5,5), n2=(0, 5))"
   ]
  },
  {
   "cell_type": "code",
   "execution_count": null,
   "metadata": {},
   "outputs": [],
   "source": [
    "def plot_fibb2(n1=0, n2=4):\n",
    "    \n",
    "    # definitions for the axes\n",
    "    left, width = 0.1, 0.65\n",
    "    bottom, height = 0.1, 0.65\n",
    "    spacing = 0.005\n",
    "\n",
    "    rect_scatter = [left, bottom, width, height]\n",
    "    rect_histx = [left, bottom + height + spacing, width, 0.2]\n",
    "    rect_histy = [left + width + spacing, bottom, 0.2, height]\n",
    "\n",
    "    fig = plt.figure(figsize=(8, 8))\n",
    "\n",
    "    ax1 = fig.add_axes(rect_scatter)\n",
    "    ax2 = fig.add_axes(rect_histx, sharex=ax1)\n",
    "    ax3 = fig.add_axes(rect_histy, sharey=ax1)\n",
    "    \n",
    "    xx = np.linspace(n1, n2, 1000)\n",
    "    ii = np.arange(n1, n2 + 1)\n",
    "    cfib1 = np.array([fibbn(x+ 1j*0) for x in xx])\n",
    "    ifib1 = np.array([fibbn(i) for i in ii])\n",
    "    \n",
    "    ax1.plot(cfib1.real, cfib1.imag)\n",
    "    ax1.plot(ifib1, [0 for f in ifib1], \"ro\")\n",
    "    \n",
    "    ax2.plot(cfib1.real, xx)\n",
    "    ax2.plot(ifib1, ii, \"ro\")\n",
    "    ax2.tick_params(axis=\"x\", labelbottom=False)\n",
    "    \n",
    "    \n",
    "    ax3.plot(xx, cfib1.imag)\n",
    "    ax3.tick_params(axis=\"y\", labelleft=False)\n"
   ]
  },
  {
   "cell_type": "code",
   "execution_count": null,
   "metadata": {},
   "outputs": [],
   "source": [
    "plot_fibb2()"
   ]
  },
  {
   "cell_type": "code",
   "execution_count": null,
   "metadata": {},
   "outputs": [],
   "source": [
    "interact(plot_fibb2, n1=(-7,0), n2=(0,7));"
   ]
  },
  {
   "cell_type": "code",
   "execution_count": null,
   "metadata": {},
   "outputs": [],
   "source": [
    "interact(plot_fibb2, \n",
    "         n1=widgets.IntSlider(min=-7, max=0, continuous_update=False),\n",
    "         n2=widgets.IntSlider(min=0, max=7, continuous_update=False)\n",
    "        )"
   ]
  },
  {
   "cell_type": "code",
   "execution_count": null,
   "metadata": {},
   "outputs": [],
   "source": [
    "def sum_inv_fibbn_odd(k):\n",
    "    return sum([1 / fibbn(2 * n + 1) for n in range(k+ 1)])\n",
    "    \n",
    "    "
   ]
  },
  {
   "cell_type": "code",
   "execution_count": null,
   "metadata": {},
   "outputs": [],
   "source": [
    "def sum_inv_fibbn(k):\n",
    "    return sum([1 / fibbn(n) for n in range(1, k+ 1)])"
   ]
  },
  {
   "cell_type": "code",
   "execution_count": null,
   "metadata": {},
   "outputs": [],
   "source": [
    "interact(sum_inv_fibbn_odd, k=(0, 30));"
   ]
  },
  {
   "cell_type": "code",
   "execution_count": null,
   "metadata": {},
   "outputs": [],
   "source": [
    "# Constante recíproca de Fibbonacci\n",
    "interact(sum_inv_fibbn, k=(1, 30))"
   ]
  },
  {
   "cell_type": "code",
   "execution_count": null,
   "metadata": {},
   "outputs": [],
   "source": [
    "%%system\n",
    "\n",
    "ls"
   ]
  },
  {
   "cell_type": "code",
   "execution_count": null,
   "metadata": {},
   "outputs": [],
   "source": [
    "%%bash\n",
    "\n",
    "echo \"a\""
   ]
  },
  {
   "cell_type": "code",
   "execution_count": null,
   "metadata": {},
   "outputs": [],
   "source": []
  }
 ],
 "metadata": {
  "kernelspec": {
   "display_name": "Python 3",
   "language": "python",
   "name": "python3"
  },
  "language_info": {
   "codemirror_mode": {
    "name": "ipython",
    "version": 3
   },
   "file_extension": ".py",
   "mimetype": "text/x-python",
   "name": "python",
   "nbconvert_exporter": "python",
   "pygments_lexer": "ipython3",
   "version": "3.7.7"
  }
 },
 "nbformat": 4,
 "nbformat_minor": 4
}
