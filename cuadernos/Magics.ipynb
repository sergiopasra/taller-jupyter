{
 "cells": [
  {
   "cell_type": "code",
   "execution_count": null,
   "metadata": {},
   "outputs": [],
   "source": [
    "%lsmagic"
   ]
  },
  {
   "cell_type": "code",
   "execution_count": null,
   "metadata": {},
   "outputs": [],
   "source": [
    "%quickref"
   ]
  },
  {
   "cell_type": "code",
   "execution_count": null,
   "metadata": {},
   "outputs": [],
   "source": [
    "%macro?"
   ]
  },
  {
   "cell_type": "code",
   "execution_count": null,
   "metadata": {
    "scrolled": false
   },
   "outputs": [],
   "source": [
    "%env"
   ]
  },
  {
   "cell_type": "code",
   "execution_count": null,
   "metadata": {},
   "outputs": [],
   "source": [
    "%run Fibonacci.ipynb"
   ]
  },
  {
   "cell_type": "code",
   "execution_count": null,
   "metadata": {},
   "outputs": [],
   "source": [
    "fib"
   ]
  },
  {
   "cell_type": "code",
   "execution_count": null,
   "metadata": {},
   "outputs": [],
   "source": [
    "%who"
   ]
  },
  {
   "cell_type": "code",
   "execution_count": null,
   "metadata": {},
   "outputs": [],
   "source": [
    "%whos"
   ]
  },
  {
   "cell_type": "markdown",
   "metadata": {},
   "source": [
    "Vamos a usar %timeit para comparar la velocidad de ejecuión de la versión simple de `fib` con la fórmula de Binet"
   ]
  },
  {
   "cell_type": "code",
   "execution_count": null,
   "metadata": {},
   "outputs": [],
   "source": [
    "import math\n",
    "\n",
    "SQRT5 = math.sqrt(5)\n",
    "PHI = (1 + SQRT5) / 2\n",
    "\n",
    "def fibbn(n):\n",
    "    \"\"\"Fibonacci number, Binet's formula\"\"\"\n",
    "    return round((PHI**n - (1-PHI)**n)/SQRT5)"
   ]
  },
  {
   "cell_type": "code",
   "execution_count": null,
   "metadata": {},
   "outputs": [],
   "source": [
    "%timeit fibbn(20)"
   ]
  },
  {
   "cell_type": "code",
   "execution_count": null,
   "metadata": {},
   "outputs": [],
   "source": [
    "%timeit fib(20)"
   ]
  },
  {
   "cell_type": "markdown",
   "metadata": {},
   "source": [
    "Podemos llamar a comandos del sistema y alamacenar los resultados en variables"
   ]
  },
  {
   "cell_type": "code",
   "execution_count": null,
   "metadata": {},
   "outputs": [],
   "source": [
    "files = !ls"
   ]
  },
  {
   "cell_type": "code",
   "execution_count": null,
   "metadata": {},
   "outputs": [],
   "source": [
    "%sx ls"
   ]
  },
  {
   "cell_type": "code",
   "execution_count": null,
   "metadata": {},
   "outputs": [],
   "source": [
    "%%bash\n",
    "\n",
    "echo $DISPLAY"
   ]
  },
  {
   "cell_type": "markdown",
   "metadata": {},
   "source": [
    "Algunos paquetes proporcionan comandos mágicos adicionales.\n",
    "\n",
    "Instalamos Cython para poder escribir directamente cython en las celdas y rpy2 para escribir R.\n",
    "\n",
    "rpy2 permite además comunicar datos entre Python y R."
   ]
  },
  {
   "cell_type": "code",
   "execution_count": 1,
   "metadata": {},
   "outputs": [
    {
     "name": "stdout",
     "output_type": "stream",
     "text": [
      "Requirement already satisfied: Cython in /home/spr/devel/envs/taller/lib/python3.7/site-packages (0.29.21)\n",
      "Note: you may need to restart the kernel to use updated packages.\n"
     ]
    }
   ],
   "source": [
    "%pip install Cython\n",
    "# %conda install Cython"
   ]
  },
  {
   "cell_type": "code",
   "execution_count": 2,
   "metadata": {},
   "outputs": [],
   "source": [
    "# Cargando un \"cell magic\" proprocionado por Cython\n",
    "%load_ext Cython"
   ]
  },
  {
   "cell_type": "code",
   "execution_count": 3,
   "metadata": {},
   "outputs": [],
   "source": [
    "%%cython\n",
    "def fibcy(int n):\n",
    "    if n == 0:\n",
    "        return 0\n",
    "    if n == 1:\n",
    "        return 1\n",
    "    return fibcy(n-1) + fibcy(n-2)"
   ]
  },
  {
   "cell_type": "code",
   "execution_count": 4,
   "metadata": {},
   "outputs": [
    {
     "name": "stdout",
     "output_type": "stream",
     "text": [
      "467 µs ± 5.31 µs per loop (mean ± std. dev. of 7 runs, 1000 loops each)\n"
     ]
    }
   ],
   "source": [
    "%timeit fibcy(20)"
   ]
  },
  {
   "cell_type": "code",
   "execution_count": 5,
   "metadata": {},
   "outputs": [
    {
     "name": "stdout",
     "output_type": "stream",
     "text": [
      "Requirement already satisfied: rpy2 in /home/spr/devel/envs/taller/lib/python3.7/site-packages (3.3.5)\n",
      "Requirement already satisfied: pytest in /home/spr/devel/envs/taller/lib/python3.7/site-packages (from rpy2) (6.0.0)\n",
      "Requirement already satisfied: cffi>=1.10.0 in /home/spr/devel/envs/taller/lib/python3.7/site-packages (from rpy2) (1.14.1)\n",
      "Requirement already satisfied: jinja2 in /home/spr/devel/envs/taller/lib/python3.7/site-packages (from rpy2) (2.11.2)\n",
      "Requirement already satisfied: tzlocal in /home/spr/devel/envs/taller/lib/python3.7/site-packages (from rpy2) (2.1)\n",
      "Requirement already satisfied: pytz in /home/spr/devel/envs/taller/lib/python3.7/site-packages (from rpy2) (2020.1)\n",
      "Requirement already satisfied: pluggy<1.0,>=0.12 in /home/spr/devel/envs/taller/lib/python3.7/site-packages (from pytest->rpy2) (0.13.1)\n",
      "Requirement already satisfied: iniconfig in /home/spr/devel/envs/taller/lib/python3.7/site-packages (from pytest->rpy2) (1.0.0)\n",
      "Requirement already satisfied: packaging in /home/spr/devel/envs/taller/lib/python3.7/site-packages (from pytest->rpy2) (20.4)\n",
      "Requirement already satisfied: attrs>=17.4.0 in /home/spr/devel/envs/taller/lib/python3.7/site-packages (from pytest->rpy2) (19.3.0)\n",
      "Requirement already satisfied: toml in /home/spr/devel/envs/taller/lib/python3.7/site-packages (from pytest->rpy2) (0.10.1)\n",
      "Requirement already satisfied: importlib-metadata>=0.12; python_version < \"3.8\" in /home/spr/devel/envs/taller/lib/python3.7/site-packages (from pytest->rpy2) (1.7.0)\n",
      "Requirement already satisfied: more-itertools>=4.0.0 in /home/spr/devel/envs/taller/lib/python3.7/site-packages (from pytest->rpy2) (8.4.0)\n",
      "Requirement already satisfied: py>=1.8.2 in /home/spr/devel/envs/taller/lib/python3.7/site-packages (from pytest->rpy2) (1.9.0)\n",
      "Requirement already satisfied: pycparser in /home/spr/devel/envs/taller/lib/python3.7/site-packages (from cffi>=1.10.0->rpy2) (2.20)\n",
      "Requirement already satisfied: MarkupSafe>=0.23 in /home/spr/devel/envs/taller/lib/python3.7/site-packages (from jinja2->rpy2) (1.1.1)\n",
      "Requirement already satisfied: six in /home/spr/devel/envs/taller/lib/python3.7/site-packages (from packaging->pytest->rpy2) (1.15.0)\n",
      "Requirement already satisfied: pyparsing>=2.0.2 in /home/spr/devel/envs/taller/lib/python3.7/site-packages (from packaging->pytest->rpy2) (2.4.7)\n",
      "Requirement already satisfied: zipp>=0.5 in /home/spr/devel/envs/taller/lib/python3.7/site-packages (from importlib-metadata>=0.12; python_version < \"3.8\"->pytest->rpy2) (3.1.0)\n",
      "Note: you may need to restart the kernel to use updated packages.\n"
     ]
    }
   ],
   "source": [
    "%pip install rpy2"
   ]
  },
  {
   "cell_type": "code",
   "execution_count": 6,
   "metadata": {},
   "outputs": [
    {
     "name": "stderr",
     "output_type": "stream",
     "text": [
      "/home/spr/devel/envs/taller/lib64/python3.7/site-packages/rpy2/ipython/rmagic.py:77: UserWarning: The Python package `pandas` is strongly recommended when using `rpy2.ipython`. Unfortunately it could not be loaded (error: No module named 'pandas'), but at least we found `numpy`.\n",
      "  'but at least we found `numpy`.' % str(ie))\n"
     ]
    }
   ],
   "source": [
    "%load_ext rpy2.ipython"
   ]
  },
  {
   "cell_type": "code",
   "execution_count": 7,
   "metadata": {},
   "outputs": [
    {
     "name": "stdout",
     "output_type": "stream",
     "text": [
      "[1] 4181\n"
     ]
    }
   ],
   "source": [
    "%%R\n",
    "\n",
    "fibr <- function(n) {\n",
    "  if (n == 1) {  \n",
    "    return(0)\n",
    "  }\n",
    "  else if(n == 2) {\n",
    "    return(1)\n",
    "  }\n",
    "  else if(n > 2) {\n",
    "    return(fibr(n - 1) + fibr(n - 2))\n",
    "  }\n",
    "}\n",
    "\n",
    "fibr(20)"
   ]
  },
  {
   "cell_type": "code",
   "execution_count": null,
   "metadata": {},
   "outputs": [],
   "source": []
  }
 ],
 "metadata": {
  "kernelspec": {
   "display_name": "Python 3",
   "language": "python",
   "name": "python3"
  },
  "language_info": {
   "codemirror_mode": {
    "name": "ipython",
    "version": 3
   },
   "file_extension": ".py",
   "mimetype": "text/x-python",
   "name": "python",
   "nbconvert_exporter": "python",
   "pygments_lexer": "ipython3",
   "version": "3.7.7"
  }
 },
 "nbformat": 4,
 "nbformat_minor": 4
}
