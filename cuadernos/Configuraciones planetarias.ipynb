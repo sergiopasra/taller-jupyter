{
 "cells": [
  {
   "cell_type": "markdown",
   "metadata": {},
   "source": [
    "# Configuraciones planetarias"
   ]
  },
  {
   "cell_type": "code",
   "execution_count": null,
   "metadata": {},
   "outputs": [],
   "source": [
    "import numpy as np\n",
    "import math\n",
    "from matplotlib import pyplot as plt\n",
    "from matplotlib.animation import FuncAnimation\n",
    "plt.style.use('seaborn-pastel')"
   ]
  },
  {
   "cell_type": "code",
   "execution_count": null,
   "metadata": {},
   "outputs": [],
   "source": [
    "from IPython.display import HTML, Image, display"
   ]
  },
  {
   "cell_type": "code",
   "execution_count": null,
   "metadata": {},
   "outputs": [],
   "source": [
    "planets = {\n",
    "    \"Mercury\": (0.387098, 0.240846),\n",
    "    \"Venus\": (0.723332, 0.615198),\n",
    "    \"Earth\": (1.000001, 1.000017),\n",
    "    \"Mars\": (1.523679, 1.88082),\n",
    "    \"Jupiter\": (5.2044, 11.862),\n",
    "    \"Saturn\": (9.5826, 29.4571),\n",
    "    \"Uranus\": (19.2184, 84.0205),\n",
    "    \"Neptune\": (30.11, 164.8),\n",
    "}"
   ]
  },
  {
   "cell_type": "code",
   "execution_count": null,
   "metadata": {},
   "outputs": [],
   "source": [
    "# Código Python\n",
    "# Permite mostrar HTML en las celdas\n",
    "display(Image(url='https://upload.wikimedia.org/wikipedia/commons/f/f6/Positional_astronomy.svg'))\n",
    "display(HTML(\"\"\"<a href=\"https://commons.wikimedia.org/wiki/File:Positional_astronomy.svg\" title=\"via Wikimedia Commons\">Wmheric</a> / <a href=\"https://creativecommons.org/licenses/by-sa/3.0\">CC BY-SA</a>\"\"\"))\n"
   ]
  },
  {
   "cell_type": "code",
   "execution_count": null,
   "metadata": {},
   "outputs": [],
   "source": [
    "def calc_e(a1, a2, ps_a):\n",
    "    aa = math.sqrt(a1**2 + a2**2 - 2 *a1*a2*math.cos(ps_a))\n",
    "    sine = a2 / aa * math.sin(ps_a)\n",
    "    return math.asin(sine)\n",
    "\n",
    "\n",
    "def calc_ang(t, a1, a2, syn):\n",
    "    ps = math.fmod(t, syn) / syn\n",
    "    u = 2 * math.pi * ps\n",
    "    if a2 >= a1:\n",
    "        e = calc_e(a2, a1, u)\n",
    "    else:\n",
    "        e = calc_e(a1, a2, u)\n",
    "    if u > math.pi:\n",
    "        u = 2 * math.pi - u\n",
    "    e2 = np.rad2deg(abs(e))\n",
    "    u2 = np.rad2deg(u)\n",
    "    e3 = 180 - (e2 + u2)\n",
    "    return t, u2, e2, e3"
   ]
  },
  {
   "cell_type": "code",
   "execution_count": null,
   "metadata": {},
   "outputs": [],
   "source": [
    "def syn_period(p1, p2):\n",
    "    syn = 365.25 * 1 / abs(1 / p1 - 1 / p2)\n",
    "    return syn"
   ]
  },
  {
   "cell_type": "code",
   "execution_count": null,
   "metadata": {},
   "outputs": [],
   "source": [
    "def plot_syn(a1, p1, n1, a2, p2, n2):\n",
    "\n",
    "    syn = syn_period(p1, p2)\n",
    "\n",
    "    p1_d = p1 * 365.25\n",
    "    p2_d = p2 * 365.25\n",
    "    o1_d = 2 * math.pi / p1_d\n",
    "    o2_d = 2 * math.pi / p2_d\n",
    "\n",
    "    tt = np.arange(0, syn + 1)\n",
    "\n",
    "    tots = [calc_ang(t, a1, a2, syn) for t in tt]\n",
    "    ta, a, b, c = zip(*tots)\n",
    "\n",
    "    clors = plt.rcParams['axes.prop_cycle'].by_key()['color']\n",
    "    if a2 > a1:\n",
    "        p_ang, e_ang = b, c\n",
    "    else:\n",
    "        e_ang, p_ang = b, c\n",
    "\n",
    "    fig, ax1 = plt.subplots()\n",
    "    ax1.set_title('{}, elongation'.format(n2))\n",
    "    ax1.plot(tt, e_ang, 'r')\n",
    "    ax1.set_ylabel('elongation')\n",
    "    plt.show()\n",
    "\n",
    "    fig, ax1 = plt.subplots()\n",
    "    ax1.set_title('{}, phase'.format(n2))\n",
    "    pha = 0.5 * (1 + np.cos(np.deg2rad(p_ang)))\n",
    "    p1ax = ax1.plot(tt, pha, clors[0], label='Fraction')\n",
    "    ax1.set_xlabel('synodic period (days)')\n",
    "    ax1.set_ylabel('phase (fraction)')\n",
    "    ax2 = ax1.twinx()\n",
    "    p2ax = ax2.plot(tt, p_ang, clors[1], label='Angle')\n",
    "    ax2.set_ylabel('phase (angle)')\n",
    "    lns = p1ax + p2ax\n",
    "    labs = [l.get_label() for l in lns]\n",
    "    ax1.legend(lns, labs)\n",
    "    ax1.legend(lns, labs)\n",
    "    plt.show()\n",
    "\n",
    "    \n",
    "def plot_syn_name(name1, name2):\n",
    "    a1, p1 = planets[name1]\n",
    "    a2, p2 = planets[name2]\n",
    "    if name1 != name2:\n",
    "        plot_syn(a1, p1, name1, a2, p2, name2)"
   ]
  },
  {
   "cell_type": "code",
   "execution_count": null,
   "metadata": {},
   "outputs": [],
   "source": [
    "plot_syn_name('Earth', 'Mercury')\n"
   ]
  },
  {
   "cell_type": "code",
   "execution_count": null,
   "metadata": {},
   "outputs": [],
   "source": [
    "def plot_anim(a1, p1, n1, a2, p2, n2):\n",
    "\n",
    "    fig = plt.figure()\n",
    "    ul = 1.1 * math.ceil(10 * max(a1, a2)) / 10\n",
    "    ax = plt.axes(xlim=(-ul, ul), ylim=(-ul, ul))\n",
    "    ax.set_aspect('equal')\n",
    "    \n",
    "    # Rad in axis coordinates\n",
    "    rax = 0.012\n",
    "    m1 = ax.transAxes.transform([(0.5, 0), (0.5, rax)])\n",
    "    m2 = ax.transData.inverted().transform(m1)\n",
    "    # Rad in data coordinates\n",
    "    rdata = abs(m2[1,1] - m2[0,1])\n",
    "\n",
    "    pl1 = plt.Circle((0, 1), rdata, fc='b')\n",
    "    pl2 = plt.Circle((0, 2), rdata, fc='g')\n",
    "    sun = plt.Circle((0, 0), 1.2*rdata, fc='k')\n",
    "\n",
    "    syn = 365.25 * 1 / abs(1 / p1 - 1 / p2)\n",
    "\n",
    "    p1_d = p1 * 365.25\n",
    "    p2_d = p2 * 365.25\n",
    "    o1_d = 2 * math.pi / p1_d\n",
    "    o2_d = 2 * math.pi / p2_d\n",
    "\n",
    "    time_text = ax.text(0.02, 0.95, '', transform=ax.transAxes)\n",
    "    phase_text = ax.text(0.02, 0.90, '', transform=ax.transAxes)\n",
    "    ax.text(0.02, 0.85, 'Ps={:.0f} d'.format(syn), transform=ax.transAxes)\n",
    "    #energy_text = ax.text(0.02, 0.90, '', transform=ax.transAxes)\n",
    "\n",
    "    def init():\n",
    "        ax.add_patch(sun)\n",
    "        o1 = plt.Circle((0,0), a1, fill=False, lw=1)\n",
    "        o2 = plt.Circle((0,0), a2, fill=False, lw=1)\n",
    "        ax.add_patch(o1)\n",
    "        ax.add_patch(o2)\n",
    "\n",
    "        pl1.center = (0, a1)\n",
    "        pl2.center = (0, a2)\n",
    "        ax.add_patch(pl1)\n",
    "        ax.add_patch(pl2)\n",
    "        time_text.set_text('')\n",
    "        phase_text.set_text('0.0')\n",
    "        return pl1, pl2, time_text, phase_text\n",
    "\n",
    "    def animate(i):\n",
    "        steps = 400.0\n",
    "        frac = i / steps * (2*syn)\n",
    "        x, y = pl1.center\n",
    "        phase1 = o1_d * frac\n",
    "        x = a1 * np.cos(phase1)\n",
    "        y = a1 * np.sin(phase1)\n",
    "        pl1.center = (x, y)\n",
    "        x, y = pl2.center\n",
    "        phase2 = o2_d * frac\n",
    "        x = 0 + a2 * np.cos(phase2)\n",
    "        y = 0 + a2 * np.sin(phase2)\n",
    "        pl2.center = (x, y)\n",
    "        \n",
    "        frac, u2, e2, e3 = calc_ang(frac, a1, a2, syn)\n",
    "        if a2 > a1:\n",
    "            p_ang, e_ang = e2, e3\n",
    "        else:\n",
    "            e_ang, p_ang = e2, e3\n",
    "        ps = math.fmod(frac, syn) / syn\n",
    "        time_text.set_text('t = {:.0f} d fs = {:3.2f}'.format(frac * 1.0, ps))\n",
    "        phase_text.set_text(\"E={:.2f}\".format(e_ang))\n",
    "        return pl1, pl2, time_text, phase_text\n",
    "\n",
    "    anim = FuncAnimation(fig, animate, init_func=init, repeat=False,\n",
    "                               frames=400, interval=20, blit=True)\n",
    "    plt.close(anim._fig)\n",
    "    return anim\n",
    "\n",
    "\n",
    "def plot_anim_name(name1, name2):\n",
    "    \n",
    "    a1, p1 = planets[name1]\n",
    "    a2, p2 = planets[name2]\n",
    "    return plot_anim(a1, p1, name1, a2, p2, name2)\n"
   ]
  },
  {
   "cell_type": "code",
   "execution_count": null,
   "metadata": {},
   "outputs": [],
   "source": [
    "anim = plot_anim_name('Earth', 'Mars')"
   ]
  },
  {
   "cell_type": "code",
   "execution_count": null,
   "metadata": {},
   "outputs": [],
   "source": [
    "HTML(anim.to_jshtml())"
   ]
  },
  {
   "cell_type": "code",
   "execution_count": null,
   "metadata": {},
   "outputs": [],
   "source": [
    "import ipywidgets as widgets"
   ]
  },
  {
   "cell_type": "code",
   "execution_count": null,
   "metadata": {},
   "outputs": [],
   "source": [
    "w1 = widgets.Dropdown(options=list(planets.keys()), \n",
    "                      value='Earth', \n",
    "                      description='Planet1:',\n",
    "                      disabled=False)\n",
    "w2 = widgets.Dropdown(options=list(planets.keys()), \n",
    "                      value='Mercury', \n",
    "                      description='Planet2:',\n",
    "                      disabled=False)"
   ]
  },
  {
   "cell_type": "code",
   "execution_count": null,
   "metadata": {},
   "outputs": [],
   "source": [
    "widgets.interact(plot_syn_name, name1=w1, name2=w2)"
   ]
  },
  {
   "cell_type": "code",
   "execution_count": null,
   "metadata": {},
   "outputs": [],
   "source": [
    "def remove_planet1(value):\n",
    "    op = list(planets.keys())\n",
    "    op.remove(w1.value)\n",
    "    w2.options = op\n",
    "\n",
    "remove_planet1('Earth')\n",
    "\n",
    "w1.observe(remove_planet1, names='value')"
   ]
  },
  {
   "cell_type": "code",
   "execution_count": null,
   "metadata": {},
   "outputs": [],
   "source": [
    "widgets.interact(plot_syn_name, name1=w1, name2=w2)"
   ]
  },
  {
   "cell_type": "code",
   "execution_count": null,
   "metadata": {},
   "outputs": [],
   "source": []
  }
 ],
 "metadata": {
  "kernelspec": {
   "display_name": "Python 3",
   "language": "python",
   "name": "python3"
  },
  "language_info": {
   "codemirror_mode": {
    "name": "ipython",
    "version": 3
   },
   "file_extension": ".py",
   "mimetype": "text/x-python",
   "name": "python",
   "nbconvert_exporter": "python",
   "pygments_lexer": "ipython3",
   "version": "3.7.7"
  }
 },
 "nbformat": 4,
 "nbformat_minor": 4
}
